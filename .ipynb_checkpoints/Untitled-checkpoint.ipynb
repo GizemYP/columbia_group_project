{
 "cells": [
  {
   "cell_type": "code",
   "execution_count": 6,
   "metadata": {},
   "outputs": [],
   "source": [
    "import requests as req\n",
    "import pandas as pd\n",
    "url=\"https://en.wikipedia.org/w/api.php?action=query&generator=search&gsrnamespace=0&gsrlimit=20000000&prop=pageimages%7Cextracts&pilimit=max&exintro=&exsentences=1&exlimit=max&continue=&pithumbsize=100&gsrsearch=hastemplate%3ABirth_date&format=json\"\n",
    "\n",
    "fam_ppl = req.get(url).json()\n",
    "#fam_ppl\n"
   ]
  },
  {
   "cell_type": "code",
   "execution_count": null,
   "metadata": {},
   "outputs": [],
   "source": [
    "fam_list = pd.DataFrame"
   ]
  }
 ],
 "metadata": {
  "kernelspec": {
   "display_name": "Python 3",
   "language": "python",
   "name": "python3"
  },
  "language_info": {
   "codemirror_mode": {
    "name": "ipython",
    "version": 3
   },
   "file_extension": ".py",
   "mimetype": "text/x-python",
   "name": "python",
   "nbconvert_exporter": "python",
   "pygments_lexer": "ipython3",
   "version": "3.6.9"
  }
 },
 "nbformat": 4,
 "nbformat_minor": 2
}
