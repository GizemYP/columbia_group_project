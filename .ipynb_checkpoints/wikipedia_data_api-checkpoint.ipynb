{
 "cells": [
  {
   "cell_type": "code",
   "execution_count": 2,
   "metadata": {},
   "outputs": [],
   "source": [
    "import requests as req\n",
    "import pandas as pd\n",
    "import csv\n",
    "#for now just one variable. further, i'll write a loop that will go #through the \n",
    "#names file (in data folder) that contains 10k formatted names. You can go check it out.\n",
    "#file =(\"data/names.csv\")\n",
    "#fname=pd.read_csv(file,index_col=['Name'])\n",
    "#fname.head()\n",
    "\n",
    "#URL that i fished out that basically returns json on the fname data\n",
    "#I THINK WE CAN FIND A BETTER API LINK\n",
    "#url = \"https://en.wikipedia.org/w/api.php?&action=query&generator=search&gsrnamespace=0&gsrlimit=20&prop=pageimages|extracts&pilimit=max&exintro&exsentences=1&exlimit=max&continue&pithumbsize=100&gsrsearch=hastemplate%3ABirth_date+\" + fname+\"&format=json\"\n",
    "#request json\n",
    "#einst = req.get(url).json()\n",
    "#print (url)\n",
    "\n",
    "lname = \"50%20Cent\"\n",
    "url = \"https://en.wikipedia.org/w/api.php?action=query&list=search&srsearch=\" + lname + \"&format=json\"\n",
    "articles = req.get(url).json()\n",
    "#uncomment the belwo to see what json looks like\n",
    "#articles\n"
   ]
  },
  {
   "cell_type": "code",
   "execution_count": 14,
   "metadata": {},
   "outputs": [
    {
     "data": {
      "text/plain": [
       "{'ns': 0,\n",
       " 'title': '50 Cent',\n",
       " 'pageid': 192481,\n",
       " 'size': 137810,\n",
       " 'wordcount': 13494,\n",
       " 'snippet': 'Curtis James Jackson III (born July 6, 1975), known professionally as <span class=\"searchmatch\">50</span> <span class=\"searchmatch\">Cent</span>, is an American rapper, singer, songwriter, actor, television producer,',\n",
       " 'timestamp': '2019-09-12T12:59:10Z'}"
      ]
     },
     "execution_count": 14,
     "metadata": {},
     "output_type": "execute_result"
    }
   ],
   "source": [
    "#need to be able to penetrate json layers to extract needed data, which is \"title\" and \"extract\"\n",
    "#Technically title we posses in the DB above\n",
    "\n",
    "abc = articles['query']['search'][0]\n",
    "    \n",
    "    #time.sleep(.5)\n",
    "    # loop through the response and append each article to the list\n",
    "    #for article in articles['query']['pages']['736']['extract']:\n",
    "        #wiki_list.append(article)\n",
    "abc\n",
    "#wiki_list"
   ]
  },
  {
   "cell_type": "code",
   "execution_count": 18,
   "metadata": {},
   "outputs": [],
   "source": [
    "w = csv.writer(open(\"test.csv\", \"w\"))\n",
    "for key, val in abc.items():\n",
    "    w.writerow([key, val])"
   ]
  },
  {
   "cell_type": "code",
   "execution_count": null,
   "metadata": {},
   "outputs": [],
   "source": []
  }
 ],
 "metadata": {
  "kernelspec": {
   "display_name": "Python 3",
   "language": "python",
   "name": "python3"
  },
  "language_info": {
   "codemirror_mode": {
    "name": "ipython",
    "version": 3
   },
   "file_extension": ".py",
   "mimetype": "text/x-python",
   "name": "python",
   "nbconvert_exporter": "python",
   "pygments_lexer": "ipython3",
   "version": "3.7.3"
  }
 },
 "nbformat": 4,
 "nbformat_minor": 2
}
