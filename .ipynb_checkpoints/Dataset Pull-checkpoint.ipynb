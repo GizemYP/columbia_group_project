{
 "cells": [
  {
   "cell_type": "code",
   "execution_count": 2,
   "metadata": {},
   "outputs": [],
   "source": [
    "import os\n",
    "import pandas as pd\n",
    "from google.cloud import bigquery\n",
    "import bq_helper\n",
    "from bq_helper import BigQueryHelper"
   ]
  },
  {
   "cell_type": "code",
   "execution_count": 3,
   "metadata": {},
   "outputs": [],
   "source": [
    "os.environ[\"GOOGLE_APPLICATION_CREDENTIALS\"] = \"service account key.json\""
   ]
  },
  {
   "cell_type": "code",
   "execution_count": 4,
   "metadata": {},
   "outputs": [],
   "source": [
    "client = bigquery.Client()"
   ]
  },
  {
   "cell_type": "code",
   "execution_count": 5,
   "metadata": {},
   "outputs": [
    {
     "data": {
      "text/plain": [
       "['usa_1910_2013', 'usa_1910_current']"
      ]
     },
     "execution_count": 5,
     "metadata": {},
     "output_type": "execute_result"
    }
   ],
   "source": [
    "bq_assistant = BigQueryHelper(\"bigquery-public-data\", \"usa_names\")\n",
    "bq_assistant.list_tables()"
   ]
  },
  {
   "cell_type": "code",
   "execution_count": 19,
   "metadata": {},
   "outputs": [
    {
     "data": {
      "text/html": [
       "<div>\n",
       "<style scoped>\n",
       "    .dataframe tbody tr th:only-of-type {\n",
       "        vertical-align: middle;\n",
       "    }\n",
       "\n",
       "    .dataframe tbody tr th {\n",
       "        vertical-align: top;\n",
       "    }\n",
       "\n",
       "    .dataframe thead th {\n",
       "        text-align: right;\n",
       "    }\n",
       "</style>\n",
       "<table border=\"1\" class=\"dataframe\">\n",
       "  <thead>\n",
       "    <tr style=\"text-align: right;\">\n",
       "      <th></th>\n",
       "      <th>state</th>\n",
       "      <th>gender</th>\n",
       "      <th>year</th>\n",
       "      <th>name</th>\n",
       "      <th>number</th>\n",
       "    </tr>\n",
       "  </thead>\n",
       "  <tbody>\n",
       "    <tr>\n",
       "      <th>0</th>\n",
       "      <td>OH</td>\n",
       "      <td>F</td>\n",
       "      <td>1910</td>\n",
       "      <td>Mary</td>\n",
       "      <td>1099</td>\n",
       "    </tr>\n",
       "    <tr>\n",
       "      <th>1</th>\n",
       "      <td>OH</td>\n",
       "      <td>F</td>\n",
       "      <td>1910</td>\n",
       "      <td>Helen</td>\n",
       "      <td>698</td>\n",
       "    </tr>\n",
       "    <tr>\n",
       "      <th>2</th>\n",
       "      <td>OH</td>\n",
       "      <td>F</td>\n",
       "      <td>1910</td>\n",
       "      <td>Dorothy</td>\n",
       "      <td>487</td>\n",
       "    </tr>\n",
       "    <tr>\n",
       "      <th>3</th>\n",
       "      <td>OH</td>\n",
       "      <td>F</td>\n",
       "      <td>1910</td>\n",
       "      <td>Ruth</td>\n",
       "      <td>457</td>\n",
       "    </tr>\n",
       "    <tr>\n",
       "      <th>4</th>\n",
       "      <td>OH</td>\n",
       "      <td>F</td>\n",
       "      <td>1910</td>\n",
       "      <td>Margaret</td>\n",
       "      <td>452</td>\n",
       "    </tr>\n",
       "  </tbody>\n",
       "</table>\n",
       "</div>"
      ],
      "text/plain": [
       "  state gender  year      name  number\n",
       "0    OH      F  1910      Mary    1099\n",
       "1    OH      F  1910     Helen     698\n",
       "2    OH      F  1910   Dorothy     487\n",
       "3    OH      F  1910      Ruth     457\n",
       "4    OH      F  1910  Margaret     452"
      ]
     },
     "execution_count": 19,
     "metadata": {},
     "output_type": "execute_result"
    }
   ],
   "source": [
    "usa_names_df = bq_assistant.head(\"usa_1910_current\", num_rows=6028151)\n",
    "usa_names_df.head()"
   ]
  },
  {
   "cell_type": "code",
   "execution_count": 20,
   "metadata": {},
   "outputs": [
    {
     "data": {
      "text/plain": [
       "6028151"
      ]
     },
     "execution_count": 20,
     "metadata": {},
     "output_type": "execute_result"
    }
   ],
   "source": [
    "len(usa_names_df)\n",
    "#6028151"
   ]
  },
  {
   "cell_type": "code",
   "execution_count": 21,
   "metadata": {},
   "outputs": [
    {
     "data": {
      "text/plain": [
       "name\n",
       "Norvell      2\n",
       "Robbie       2\n",
       "Robbin       2\n",
       "Ashlee       2\n",
       "Latisha      2\n",
       "Ashleigh     2\n",
       "Jagger       2\n",
       "Ashley       2\n",
       "Teresa       2\n",
       "Mia          2\n",
       "Latonya      2\n",
       "Robert       2\n",
       "Ashly        2\n",
       "Ashlyn       2\n",
       "Meyer        2\n",
       "Jaelyn       2\n",
       "Roberto      2\n",
       "Latoya       2\n",
       "Jaelin       2\n",
       "Fallon       2\n",
       "Robie        2\n",
       "Jaelen       2\n",
       "Ashten       2\n",
       "Ashtin       2\n",
       "Ashton       2\n",
       "Ashtyn       2\n",
       "Robin        2\n",
       "Tenzin       2\n",
       "Latrell      2\n",
       "Terez        2\n",
       "            ..\n",
       "Melik        1\n",
       "Meliah       1\n",
       "Melannie     1\n",
       "Melia        1\n",
       "Melanny      1\n",
       "Melany       1\n",
       "Melanye      1\n",
       "Melat        1\n",
       "Melayna      1\n",
       "Melaysia     1\n",
       "Melba        1\n",
       "Melbourne    1\n",
       "Melburn      1\n",
       "Melchor      1\n",
       "Melchora     1\n",
       "Melda        1\n",
       "Mele         1\n",
       "Melea        1\n",
       "Meleah       1\n",
       "Meleana      1\n",
       "Meleane      1\n",
       "Melecio      1\n",
       "Meleena      1\n",
       "Melena       1\n",
       "Meleni       1\n",
       "Melenie      1\n",
       "Meleny       1\n",
       "Melessa      1\n",
       "Melford      1\n",
       "Aaban        1\n",
       "Name: gender, Length: 31595, dtype: int64"
      ]
     },
     "execution_count": 21,
     "metadata": {},
     "output_type": "execute_result"
    }
   ],
   "source": [
    "unique_names_gender = usa_names_df.groupby('name')['gender'].nunique().sort_values(ascending=False)\n",
    "unique_names_gender"
   ]
  },
  {
   "cell_type": "code",
   "execution_count": 22,
   "metadata": {},
   "outputs": [
    {
     "data": {
      "text/plain": [
       "name\n",
       "Evan          51\n",
       "Larry         51\n",
       "Luna          51\n",
       "John          51\n",
       "Adeline       51\n",
       "Cindy         51\n",
       "Tara          51\n",
       "Brittney      51\n",
       "Ashley        51\n",
       "Tanya         51\n",
       "Edwin         51\n",
       "Mike          51\n",
       "Edward        51\n",
       "Ashleigh      51\n",
       "Ashlee        51\n",
       "Mikayla       51\n",
       "Johnathan     51\n",
       "Aliyah        51\n",
       "Priscilla     51\n",
       "Lukas         51\n",
       "Preston       51\n",
       "Miles         51\n",
       "Brittany      51\n",
       "Craig         51\n",
       "Mildred       51\n",
       "Aden          51\n",
       "Kara          51\n",
       "Alisha        51\n",
       "Jaime         51\n",
       "Alison        51\n",
       "              ..\n",
       "Keyatta        1\n",
       "Keshara        1\n",
       "Keyarah        1\n",
       "Keyanta        1\n",
       "Keyani         1\n",
       "Kewon          1\n",
       "Kewanda        1\n",
       "Kewan          1\n",
       "Kevork         1\n",
       "Kevondrick     1\n",
       "Kevis          1\n",
       "Kevinisha      1\n",
       "Keveon         1\n",
       "Kevaughn       1\n",
       "Keundra        1\n",
       "Ketzaly        1\n",
       "Ketty          1\n",
       "Ketsy          1\n",
       "Ketsia         1\n",
       "Ketrick        1\n",
       "Ketra          1\n",
       "Ketina         1\n",
       "Kethan         1\n",
       "Ketara         1\n",
       "Ketan          1\n",
       "Kestutis       1\n",
       "Kessler        1\n",
       "Keslyn         1\n",
       "Kesley         1\n",
       "Aaban          1\n",
       "Name: state, Length: 31595, dtype: int64"
      ]
     },
     "execution_count": 22,
     "metadata": {},
     "output_type": "execute_result"
    }
   ],
   "source": [
    "unique_names_state = usa_names_df.groupby('name')['state'].nunique().sort_values(ascending=False)\n",
    "unique_names_state"
   ]
  }
 ],
 "metadata": {
  "kernelspec": {
   "display_name": "Python 3",
   "language": "python",
   "name": "python3"
  },
  "language_info": {
   "codemirror_mode": {
    "name": "ipython",
    "version": 3
   },
   "file_extension": ".py",
   "mimetype": "text/x-python",
   "name": "python",
   "nbconvert_exporter": "python",
   "pygments_lexer": "ipython3",
   "version": "3.7.3"
  }
 },
 "nbformat": 4,
 "nbformat_minor": 2
}
