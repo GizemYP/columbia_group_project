{
 "cells": [
  {
   "cell_type": "code",
   "execution_count": 1,
   "metadata": {},
   "outputs": [],
   "source": [
    "import pandas as pd\n",
    "import glob\n",
    "import numpy as np\n",
    "import sys\n",
    "from matplotlib.patches import Ellipse\n",
    "import matplotlib.pyplot as plt\n"
   ]
  },
  {
   "cell_type": "code",
   "execution_count": 2,
   "metadata": {},
   "outputs": [
    {
     "data": {
      "text/html": [
       "<div>\n",
       "<style scoped>\n",
       "    .dataframe tbody tr th:only-of-type {\n",
       "        vertical-align: middle;\n",
       "    }\n",
       "\n",
       "    .dataframe tbody tr th {\n",
       "        vertical-align: top;\n",
       "    }\n",
       "\n",
       "    .dataframe thead th {\n",
       "        text-align: right;\n",
       "    }\n",
       "</style>\n",
       "<table border=\"1\" class=\"dataframe\">\n",
       "  <thead>\n",
       "    <tr style=\"text-align: right;\">\n",
       "      <th></th>\n",
       "      <th>state</th>\n",
       "      <th>gender</th>\n",
       "      <th>year</th>\n",
       "      <th>name</th>\n",
       "      <th>count</th>\n",
       "    </tr>\n",
       "  </thead>\n",
       "  <tbody>\n",
       "    <tr>\n",
       "      <th>0</th>\n",
       "      <td>AK</td>\n",
       "      <td>F</td>\n",
       "      <td>1910</td>\n",
       "      <td>Mary</td>\n",
       "      <td>14</td>\n",
       "    </tr>\n",
       "    <tr>\n",
       "      <th>1</th>\n",
       "      <td>AK</td>\n",
       "      <td>F</td>\n",
       "      <td>1910</td>\n",
       "      <td>Annie</td>\n",
       "      <td>12</td>\n",
       "    </tr>\n",
       "    <tr>\n",
       "      <th>2</th>\n",
       "      <td>AK</td>\n",
       "      <td>F</td>\n",
       "      <td>1910</td>\n",
       "      <td>Anna</td>\n",
       "      <td>10</td>\n",
       "    </tr>\n",
       "    <tr>\n",
       "      <th>3</th>\n",
       "      <td>AK</td>\n",
       "      <td>F</td>\n",
       "      <td>1910</td>\n",
       "      <td>Margaret</td>\n",
       "      <td>8</td>\n",
       "    </tr>\n",
       "    <tr>\n",
       "      <th>4</th>\n",
       "      <td>AK</td>\n",
       "      <td>F</td>\n",
       "      <td>1910</td>\n",
       "      <td>Helen</td>\n",
       "      <td>7</td>\n",
       "    </tr>\n",
       "  </tbody>\n",
       "</table>\n",
       "</div>"
      ],
      "text/plain": [
       "  state gender  year      name  count\n",
       "0    AK      F  1910      Mary     14\n",
       "1    AK      F  1910     Annie     12\n",
       "2    AK      F  1910      Anna     10\n",
       "3    AK      F  1910  Margaret      8\n",
       "4    AK      F  1910     Helen      7"
      ]
     },
     "execution_count": 2,
     "metadata": {},
     "output_type": "execute_result"
    }
   ],
   "source": [
    "#create a dataframe\n",
    "name_df = pd.DataFrame()\n",
    "\n",
    "#open, read all text files downloaded from SSN website and name the column labels\n",
    "for files in glob.glob('SSN_data/Files by name/*.txt'):\n",
    "    comb_data = pd.read_csv(files,names=['state', 'gender', 'year', 'name', 'count'])\n",
    "#concatenate text files in the dataframe\n",
    "    name_df = pd.concat([name_df,comb_data],axis=0,ignore_index=True)\n",
    "name_df.head()"
   ]
  },
  {
   "cell_type": "code",
   "execution_count": 3,
   "metadata": {},
   "outputs": [
    {
     "data": {
      "text/plain": [
       "6028151"
      ]
     },
     "execution_count": 3,
     "metadata": {},
     "output_type": "execute_result"
    }
   ],
   "source": [
    "#total row count\n",
    "total_count=name_df['name'].count()\n",
    "total_count"
   ]
  },
  {
   "cell_type": "code",
   "execution_count": 4,
   "metadata": {},
   "outputs": [
    {
     "data": {
      "text/plain": [
       "F    3359619\n",
       "M    2668532\n",
       "Name: gender, dtype: int64"
      ]
     },
     "execution_count": 4,
     "metadata": {},
     "output_type": "execute_result"
    }
   ],
   "source": [
    "name_count_df=name_df['gender'].value_counts()\n",
    "name_count_df"
   ]
  },
  {
   "cell_type": "code",
   "execution_count": 6,
   "metadata": {},
   "outputs": [
    {
     "data": {
      "image/png": "[encoded data removed]",
      "text/plain": [
       "<Figure size 432x288 with 1 Axes>"
      ]
     },
     "metadata": {},
     "output_type": "display_data"
    }
   ],
   "source": [
    "# diversity of names by gender\n",
    "labels=[\"Female\", \"Male\"]\n",
    "sizes=name_count_df\n",
    "colors=[\"salmon\", \"skyblue\"]\n",
    "explode=(0, 0.1)\n",
    "\n",
    "# Build Pie Chart\n",
    "plt.title(\"Diversity of Names by Gender (1910 - 2018)\", fontsize=15)\n",
    "plt.pie(sizes, explode=explode, labels=labels, colors=colors,\n",
    "       autopct=\"%1.1f%%\", shadow=True, startangle=140)\n",
    "\n",
    "# Show and Save the Figure\n",
    "plt.savefig(\"divercityOfNamesByGender.png\")\n",
    "plt.show()"
   ]
  },
  {
   "cell_type": "code",
   "execution_count": 7,
   "metadata": {},
   "outputs": [
    {
     "data": {
      "text/plain": [
       "311155210"
      ]
     },
     "execution_count": 7,
     "metadata": {},
     "output_type": "execute_result"
    }
   ],
   "source": [
    "#total pupulation sum\n",
    "total_sum=name_df['count'].sum()\n",
    "total_sum"
   ]
  },
  {
   "cell_type": "code",
   "execution_count": 8,
   "metadata": {},
   "outputs": [
    {
     "data": {
      "text/plain": [
       "gender\n",
       "F    149494814\n",
       "M    161660396\n",
       "Name: count, dtype: int64"
      ]
     },
     "execution_count": 8,
     "metadata": {},
     "output_type": "execute_result"
    }
   ],
   "source": [
    "#total pupulation by gender\n",
    "name_df_sorted_sum=name_df.groupby('gender')['count'].sum()\n",
    "name_df_sorted_sum"
   ]
  },
  {
   "cell_type": "code",
   "execution_count": 9,
   "metadata": {},
   "outputs": [
    {
     "data": {
      "image/png": "[encoded data removed]",
      "text/plain": [
       "<Figure size 432x288 with 1 Axes>"
      ]
     },
     "metadata": {},
     "output_type": "display_data"
    }
   ],
   "source": [
    "#total_pupulation\n",
    "labels=[\"Female\", \"Male\"]\n",
    "sizes=name_df_sorted_sum\n",
    "colors=[\"salmon\", \"skyblue\"]\n",
    "explode=(0, 0.1)\n",
    "\n",
    "# Build Pie Chart\n",
    "plt.title(\"Population by Gender (1910 - 2018)\", fontsize=15)\n",
    "plt.pie(sizes, explode=explode, labels=labels, colors=colors,\n",
    "       autopct=\"%1.1f%%\", shadow=True, startangle=140)\n",
    "\n",
    "# Show and Save the Figure\n",
    "plt.savefig(\"populationByGender.png\")\n",
    "plt.show()"
   ]
  },
  {
   "cell_type": "code",
   "execution_count": null,
   "metadata": {},
   "outputs": [],
   "source": []
  }
 ],
 "metadata": {
  "kernelspec": {
   "display_name": "Python 3",
   "language": "python",
   "name": "python3"
  },
  "language_info": {
   "codemirror_mode": {
    "name": "ipython",
    "version": 3
   },
   "file_extension": ".py",
   "mimetype": "text/x-python",
   "name": "python",
   "nbconvert_exporter": "python",
   "pygments_lexer": "ipython3",
   "version": "3.7.3"
  }
 },
 "nbformat": 4,
 "nbformat_minor": 2
}
