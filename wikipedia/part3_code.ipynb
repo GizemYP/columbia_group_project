{
 "cells": [
  {
   "cell_type": "code",
   "execution_count": 2,
   "metadata": {},
   "outputs": [],
   "source": [
    "import pandas as pd\n",
    "import matplotlib.pyplot as plt\n",
    "import matplotlib\n",
    "import scipy\n",
    "import numpy as np\n",
    "import csv"
   ]
  },
  {
   "cell_type": "code",
   "execution_count": 3,
   "metadata": {},
   "outputs": [
    {
     "data": {
      "text/html": [
       "<div>\n",
       "<style scoped>\n",
       "    .dataframe tbody tr th:only-of-type {\n",
       "        vertical-align: middle;\n",
       "    }\n",
       "\n",
       "    .dataframe tbody tr th {\n",
       "        vertical-align: top;\n",
       "    }\n",
       "\n",
       "    .dataframe thead th {\n",
       "        text-align: right;\n",
       "    }\n",
       "</style>\n",
       "<table border=\"1\" class=\"dataframe\">\n",
       "  <thead>\n",
       "    <tr style=\"text-align: right;\">\n",
       "      <th></th>\n",
       "      <th>firstName</th>\n",
       "      <th>lastName</th>\n",
       "      <th>decade</th>\n",
       "    </tr>\n",
       "  </thead>\n",
       "  <tbody>\n",
       "    <tr>\n",
       "      <th>0</th>\n",
       "      <td>Andre</td>\n",
       "      <td>Agassi</td>\n",
       "      <td>70s</td>\n",
       "    </tr>\n",
       "    <tr>\n",
       "      <th>1</th>\n",
       "      <td>Andy</td>\n",
       "      <td>Warhol</td>\n",
       "      <td>20s</td>\n",
       "    </tr>\n",
       "    <tr>\n",
       "      <th>2</th>\n",
       "      <td>Allen</td>\n",
       "      <td>Ginsberg</td>\n",
       "      <td>20s</td>\n",
       "    </tr>\n",
       "    <tr>\n",
       "      <th>3</th>\n",
       "      <td>Paul</td>\n",
       "      <td>Krugman</td>\n",
       "      <td>50s</td>\n",
       "    </tr>\n",
       "    <tr>\n",
       "      <th>4</th>\n",
       "      <td>Alec</td>\n",
       "      <td>Baldwin</td>\n",
       "      <td>50s</td>\n",
       "    </tr>\n",
       "  </tbody>\n",
       "</table>\n",
       "</div>"
      ],
      "text/plain": [
       "  firstName  lastName decade\n",
       "0     Andre    Agassi    70s\n",
       "1      Andy    Warhol    20s\n",
       "2     Allen  Ginsberg    20s\n",
       "3      Paul   Krugman    50s\n",
       "4      Alec   Baldwin    50s"
      ]
     },
     "execution_count": 3,
     "metadata": {},
     "output_type": "execute_result"
    }
   ],
   "source": [
    "file = \"wip_csv/clean_celebs.csv\"\n",
    "clean_celebs1 = pd.read_csv(file)\n",
    "#for some reason needed to drop unnamed column \n",
    "clean_celebs1.drop(columns =[\"Unnamed: 0\"], inplace = True) \n",
    "clean_celebs1.head()"
   ]
  },
  {
   "cell_type": "code",
   "execution_count": 4,
   "metadata": {},
   "outputs": [
    {
     "data": {
      "text/html": [
       "<div>\n",
       "<style scoped>\n",
       "    .dataframe tbody tr th:only-of-type {\n",
       "        vertical-align: middle;\n",
       "    }\n",
       "\n",
       "    .dataframe tbody tr th {\n",
       "        vertical-align: top;\n",
       "    }\n",
       "\n",
       "    .dataframe thead th {\n",
       "        text-align: right;\n",
       "    }\n",
       "</style>\n",
       "<table border=\"1\" class=\"dataframe\">\n",
       "  <thead>\n",
       "    <tr style=\"text-align: right;\">\n",
       "      <th></th>\n",
       "      <th>decades</th>\n",
       "      <th>name</th>\n",
       "      <th>number</th>\n",
       "    </tr>\n",
       "  </thead>\n",
       "  <tbody>\n",
       "    <tr>\n",
       "      <th>0</th>\n",
       "      <td>00s</td>\n",
       "      <td>Aadan</td>\n",
       "      <td>18</td>\n",
       "    </tr>\n",
       "    <tr>\n",
       "      <th>1</th>\n",
       "      <td>00s</td>\n",
       "      <td>Aadarsh</td>\n",
       "      <td>5</td>\n",
       "    </tr>\n",
       "    <tr>\n",
       "      <th>2</th>\n",
       "      <td>00s</td>\n",
       "      <td>Aaden</td>\n",
       "      <td>2285</td>\n",
       "    </tr>\n",
       "    <tr>\n",
       "      <th>3</th>\n",
       "      <td>00s</td>\n",
       "      <td>Aadhya</td>\n",
       "      <td>11</td>\n",
       "    </tr>\n",
       "    <tr>\n",
       "      <th>4</th>\n",
       "      <td>00s</td>\n",
       "      <td>Aadi</td>\n",
       "      <td>205</td>\n",
       "    </tr>\n",
       "  </tbody>\n",
       "</table>\n",
       "</div>"
      ],
      "text/plain": [
       "  decades     name  number\n",
       "0     00s    Aadan      18\n",
       "1     00s  Aadarsh       5\n",
       "2     00s    Aaden    2285\n",
       "3     00s   Aadhya      11\n",
       "4     00s     Aadi     205"
      ]
     },
     "execution_count": 4,
     "metadata": {},
     "output_type": "execute_result"
    }
   ],
   "source": [
    "#import Gizems datafram\n",
    "file2 = \"../SSN_data/part3.csv\"\n",
    "clean_muggles = pd.read_csv(file2)\n",
    "#for some reason needed to drop unnamed column \n",
    "clean_muggles.drop(columns =[\"Unnamed: 0\"], inplace = True) \n",
    "clean_muggles.head()"
   ]
  },
  {
   "cell_type": "code",
   "execution_count": 5,
   "metadata": {},
   "outputs": [
    {
     "data": {
      "text/plain": [
       "(103111, 3)"
      ]
     },
     "execution_count": 5,
     "metadata": {},
     "output_type": "execute_result"
    }
   ],
   "source": [
    "clean_muggles.shape"
   ]
  },
  {
   "cell_type": "code",
   "execution_count": 48,
   "metadata": {},
   "outputs": [],
   "source": [
    "sel_list = []\n",
    "name1 = \"William\"\n",
    "for i in clean_muggles.name:\n",
    "    if i == name1:\n",
    "        sel_list.append(True)\n",
    "    else:\n",
    "        sel_list.append(False)"
   ]
  },
  {
   "cell_type": "code",
   "execution_count": 49,
   "metadata": {},
   "outputs": [
    {
     "data": {
      "text/html": [
       "<div>\n",
       "<style scoped>\n",
       "    .dataframe tbody tr th:only-of-type {\n",
       "        vertical-align: middle;\n",
       "    }\n",
       "\n",
       "    .dataframe tbody tr th {\n",
       "        vertical-align: top;\n",
       "    }\n",
       "\n",
       "    .dataframe thead th {\n",
       "        text-align: right;\n",
       "    }\n",
       "</style>\n",
       "<table border=\"1\" class=\"dataframe\">\n",
       "  <thead>\n",
       "    <tr style=\"text-align: right;\">\n",
       "      <th></th>\n",
       "      <th>decades</th>\n",
       "      <th>name</th>\n",
       "      <th>number</th>\n",
       "    </tr>\n",
       "  </thead>\n",
       "  <tbody>\n",
       "    <tr>\n",
       "      <th>15893</th>\n",
       "      <td>00s</td>\n",
       "      <td>William</td>\n",
       "      <td>194406</td>\n",
       "    </tr>\n",
       "    <tr>\n",
       "      <th>21776</th>\n",
       "      <td>10s</td>\n",
       "      <td>William</td>\n",
       "      <td>303673</td>\n",
       "    </tr>\n",
       "    <tr>\n",
       "      <th>37181</th>\n",
       "      <td>2010</td>\n",
       "      <td>William</td>\n",
       "      <td>145893</td>\n",
       "    </tr>\n",
       "    <tr>\n",
       "      <th>44185</th>\n",
       "      <td>20s</td>\n",
       "      <td>William</td>\n",
       "      <td>514581</td>\n",
       "    </tr>\n",
       "    <tr>\n",
       "      <th>49578</th>\n",
       "      <td>30s</td>\n",
       "      <td>William</td>\n",
       "      <td>418101</td>\n",
       "    </tr>\n",
       "    <tr>\n",
       "      <th>55031</th>\n",
       "      <td>40s</td>\n",
       "      <td>William</td>\n",
       "      <td>557441</td>\n",
       "    </tr>\n",
       "    <tr>\n",
       "      <th>61186</th>\n",
       "      <td>50s</td>\n",
       "      <td>William</td>\n",
       "      <td>591944</td>\n",
       "    </tr>\n",
       "    <tr>\n",
       "      <th>67999</th>\n",
       "      <td>60s</td>\n",
       "      <td>William</td>\n",
       "      <td>422817</td>\n",
       "    </tr>\n",
       "    <tr>\n",
       "      <th>76965</th>\n",
       "      <td>70s</td>\n",
       "      <td>William</td>\n",
       "      <td>284911</td>\n",
       "    </tr>\n",
       "    <tr>\n",
       "      <th>88221</th>\n",
       "      <td>80s</td>\n",
       "      <td>William</td>\n",
       "      <td>249460</td>\n",
       "    </tr>\n",
       "    <tr>\n",
       "      <th>102600</th>\n",
       "      <td>90s</td>\n",
       "      <td>William</td>\n",
       "      <td>217907</td>\n",
       "    </tr>\n",
       "  </tbody>\n",
       "</table>\n",
       "</div>"
      ],
      "text/plain": [
       "       decades     name  number\n",
       "15893      00s  William  194406\n",
       "21776      10s  William  303673\n",
       "37181     2010  William  145893\n",
       "44185      20s  William  514581\n",
       "49578      30s  William  418101\n",
       "55031      40s  William  557441\n",
       "61186      50s  William  591944\n",
       "67999      60s  William  422817\n",
       "76965      70s  William  284911\n",
       "88221      80s  William  249460\n",
       "102600     90s  William  217907"
      ]
     },
     "execution_count": 49,
     "metadata": {},
     "output_type": "execute_result"
    }
   ],
   "source": [
    "serena1=pd.Series(sel_list)\n",
    "serena = pd.DataFrame(clean_muggles[serena1])\n",
    "serena.sort_values('decades')"
   ]
  },
  {
   "cell_type": "code",
   "execution_count": 50,
   "metadata": {},
   "outputs": [],
   "source": [
    "#field = \"decades\"\n",
    "#decade_order = [\"10s\", \"20s\", \"30s\", \"40s\", \"50s\", \"60s\", \"70s\",\"80s\",\"90s\",\"00s\",\"2010\"]\n",
    "#name_plot = serena.set_index(\"decades\").loc[decade_order].plot(kind=\"line\", legend=False)\n",
    "#plt.ylabel(\"Value\")\n",
    "#plt.xlim(right = 10.2)\n",
    "#plt.xlim(left = -0.2)\n",
    "#plt.title(f'{name1}s Over Time',size = 30)\n",
    "#plt.xlabel(\"Decades\")\n",
    "#plt.ylabel(f\"How many {name1}s in a decade?\")\n",
    "#fig = matplotlib.pyplot.gcf()\n",
    "#fig.set_size_inches(18, 10)\n",
    "#matplotlib.style.use('seaborn')\n",
    "#fig.savefig('Serena.png')"
   ]
  },
  {
   "cell_type": "code",
   "execution_count": 51,
   "metadata": {},
   "outputs": [
    {
     "data": {
      "image/png": "[encoded data removed]",
      "text/plain": [
       "<Figure size 1224x720 with 1 Axes>"
      ]
     },
     "metadata": {},
     "output_type": "display_data"
    }
   ],
   "source": [
    "field = \"decades\"\n",
    "decade_order = [\"10s\", \"20s\", \"30s\", \"40s\", \"50s\", \"60s\", \"70s\",\"80s\",\"90s\",\"00s\",\"2010\"]\n",
    "name_plot = serena.set_index(\"decades\").loc[decade_order].plot(kind=\"bar\", legend=False)\n",
    "plt.ylabel(\"Value\")\n",
    "plt.xlim(right = 10.2)\n",
    "plt.xlim(left = -0.2)\n",
    "plt.title(f'{name1}s Over Time',size = 30)\n",
    "plt.xlabel(\"Decades\",size=30)\n",
    "plt.ylabel(f\"How many {name1}s in a decade?\",size=30)\n",
    "fig = matplotlib.pyplot.gcf()\n",
    "fig.set_size_inches(17, 10)\n",
    "matplotlib.style.use('seaborn')\n",
    "fig.savefig('William2.png')"
   ]
  },
  {
   "cell_type": "code",
   "execution_count": null,
   "metadata": {},
   "outputs": [],
   "source": []
  },
  {
   "cell_type": "code",
   "execution_count": null,
   "metadata": {},
   "outputs": [],
   "source": []
  }
 ],
 "metadata": {
  "kernelspec": {
   "display_name": "Python 3",
   "language": "python",
   "name": "python3"
  },
  "language_info": {
   "codemirror_mode": {
    "name": "ipython",
    "version": 3
   },
   "file_extension": ".py",
   "mimetype": "text/x-python",
   "name": "python",
   "nbconvert_exporter": "python",
   "pygments_lexer": "ipython3",
   "version": "3.7.3"
  }
 },
 "nbformat": 4,
 "nbformat_minor": 2
}
