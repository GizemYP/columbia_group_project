{
 "cells": [
  {
   "cell_type": "code",
   "execution_count": 146,
   "metadata": {},
   "outputs": [],
   "source": [
    "import pandas as pd\n",
    "import matplotlib.pyplot as plt\n",
    "import matplotlib\n",
    "import scipy\n",
    "import numpy as np\n",
    "import csv"
   ]
  },
  {
   "cell_type": "code",
   "execution_count": 147,
   "metadata": {},
   "outputs": [
    {
     "data": {
      "text/html": [
       "<div>\n",
       "<style scoped>\n",
       "    .dataframe tbody tr th:only-of-type {\n",
       "        vertical-align: middle;\n",
       "    }\n",
       "\n",
       "    .dataframe tbody tr th {\n",
       "        vertical-align: top;\n",
       "    }\n",
       "\n",
       "    .dataframe thead th {\n",
       "        text-align: right;\n",
       "    }\n",
       "</style>\n",
       "<table border=\"1\" class=\"dataframe\">\n",
       "  <thead>\n",
       "    <tr style=\"text-align: right;\">\n",
       "      <th></th>\n",
       "      <th>firstName</th>\n",
       "      <th>lastName</th>\n",
       "      <th>decade</th>\n",
       "    </tr>\n",
       "  </thead>\n",
       "  <tbody>\n",
       "    <tr>\n",
       "      <th>0</th>\n",
       "      <td>Andre</td>\n",
       "      <td>Agassi</td>\n",
       "      <td>70s</td>\n",
       "    </tr>\n",
       "    <tr>\n",
       "      <th>1</th>\n",
       "      <td>Andy</td>\n",
       "      <td>Warhol</td>\n",
       "      <td>20s</td>\n",
       "    </tr>\n",
       "    <tr>\n",
       "      <th>2</th>\n",
       "      <td>Allen</td>\n",
       "      <td>Ginsberg</td>\n",
       "      <td>20s</td>\n",
       "    </tr>\n",
       "    <tr>\n",
       "      <th>3</th>\n",
       "      <td>Paul</td>\n",
       "      <td>Krugman</td>\n",
       "      <td>50s</td>\n",
       "    </tr>\n",
       "    <tr>\n",
       "      <th>4</th>\n",
       "      <td>Alec</td>\n",
       "      <td>Baldwin</td>\n",
       "      <td>50s</td>\n",
       "    </tr>\n",
       "  </tbody>\n",
       "</table>\n",
       "</div>"
      ],
      "text/plain": [
       "  firstName  lastName decade\n",
       "0     Andre    Agassi    70s\n",
       "1      Andy    Warhol    20s\n",
       "2     Allen  Ginsberg    20s\n",
       "3      Paul   Krugman    50s\n",
       "4      Alec   Baldwin    50s"
      ]
     },
     "execution_count": 147,
     "metadata": {},
     "output_type": "execute_result"
    }
   ],
   "source": [
    "file = \"wip_csv/clean_celebs.csv\"\n",
    "clean_celebs1 = pd.read_csv(file)\n",
    "#for some reason needed to drop unnamed column \n",
    "clean_celebs1.drop(columns =[\"Unnamed: 0\"], inplace = True) \n",
    "clean_celebs1.head()"
   ]
  },
  {
   "cell_type": "code",
   "execution_count": 148,
   "metadata": {},
   "outputs": [
    {
     "data": {
      "text/html": [
       "<div>\n",
       "<style scoped>\n",
       "    .dataframe tbody tr th:only-of-type {\n",
       "        vertical-align: middle;\n",
       "    }\n",
       "\n",
       "    .dataframe tbody tr th {\n",
       "        vertical-align: top;\n",
       "    }\n",
       "\n",
       "    .dataframe thead th {\n",
       "        text-align: right;\n",
       "    }\n",
       "</style>\n",
       "<table border=\"1\" class=\"dataframe\">\n",
       "  <thead>\n",
       "    <tr style=\"text-align: right;\">\n",
       "      <th></th>\n",
       "      <th>decades</th>\n",
       "      <th>name</th>\n",
       "      <th>number</th>\n",
       "    </tr>\n",
       "  </thead>\n",
       "  <tbody>\n",
       "    <tr>\n",
       "      <th>0</th>\n",
       "      <td>s2000</td>\n",
       "      <td>Aadan</td>\n",
       "      <td>18</td>\n",
       "    </tr>\n",
       "    <tr>\n",
       "      <th>1</th>\n",
       "      <td>s2000</td>\n",
       "      <td>Aadarsh</td>\n",
       "      <td>5</td>\n",
       "    </tr>\n",
       "    <tr>\n",
       "      <th>2</th>\n",
       "      <td>s2000</td>\n",
       "      <td>Aaden</td>\n",
       "      <td>2285</td>\n",
       "    </tr>\n",
       "    <tr>\n",
       "      <th>3</th>\n",
       "      <td>s2000</td>\n",
       "      <td>Aadhya</td>\n",
       "      <td>11</td>\n",
       "    </tr>\n",
       "    <tr>\n",
       "      <th>4</th>\n",
       "      <td>s2000</td>\n",
       "      <td>Aadi</td>\n",
       "      <td>205</td>\n",
       "    </tr>\n",
       "  </tbody>\n",
       "</table>\n",
       "</div>"
      ],
      "text/plain": [
       "  decades     name  number\n",
       "0   s2000    Aadan      18\n",
       "1   s2000  Aadarsh       5\n",
       "2   s2000    Aaden    2285\n",
       "3   s2000   Aadhya      11\n",
       "4   s2000     Aadi     205"
      ]
     },
     "execution_count": 148,
     "metadata": {},
     "output_type": "execute_result"
    }
   ],
   "source": [
    "#import Gizems datafram\n",
    "file2 = \"../SSN_data/part3.csv\"\n",
    "clean_muggles = pd.read_csv(file2)\n",
    "#for some reason needed to drop unnamed column \n",
    "clean_muggles.drop(columns =[\"Unnamed: 0\"], inplace = True) \n",
    "clean_muggles.head()"
   ]
  },
  {
   "cell_type": "code",
   "execution_count": 149,
   "metadata": {},
   "outputs": [
    {
     "data": {
      "text/plain": [
       "(103111, 3)"
      ]
     },
     "execution_count": 149,
     "metadata": {},
     "output_type": "execute_result"
    }
   ],
   "source": [
    "clean_muggles.shape"
   ]
  },
  {
   "cell_type": "code",
   "execution_count": 223,
   "metadata": {},
   "outputs": [],
   "source": [
    "booleans = []\n",
    "for i in clean_muggles.name:\n",
    "    if i == 'Pearl':\n",
    "        booleans.append(True)\n",
    "    else:\n",
    "        booleans.append(False)"
   ]
  },
  {
   "cell_type": "code",
   "execution_count": 224,
   "metadata": {},
   "outputs": [
    {
     "data": {
      "text/html": [
       "<div>\n",
       "<style scoped>\n",
       "    .dataframe tbody tr th:only-of-type {\n",
       "        vertical-align: middle;\n",
       "    }\n",
       "\n",
       "    .dataframe tbody tr th {\n",
       "        vertical-align: top;\n",
       "    }\n",
       "\n",
       "    .dataframe thead th {\n",
       "        text-align: right;\n",
       "    }\n",
       "</style>\n",
       "<table border=\"1\" class=\"dataframe\">\n",
       "  <thead>\n",
       "    <tr style=\"text-align: right;\">\n",
       "      <th></th>\n",
       "      <th>decades</th>\n",
       "      <th>name</th>\n",
       "      <th>number</th>\n",
       "    </tr>\n",
       "  </thead>\n",
       "  <tbody>\n",
       "    <tr>\n",
       "      <th>20680</th>\n",
       "      <td>10s</td>\n",
       "      <td>Pearl</td>\n",
       "      <td>34079</td>\n",
       "    </tr>\n",
       "    <tr>\n",
       "      <th>42863</th>\n",
       "      <td>20s</td>\n",
       "      <td>Pearl</td>\n",
       "      <td>33164</td>\n",
       "    </tr>\n",
       "    <tr>\n",
       "      <th>48439</th>\n",
       "      <td>30s</td>\n",
       "      <td>Pearl</td>\n",
       "      <td>13335</td>\n",
       "    </tr>\n",
       "    <tr>\n",
       "      <th>53835</th>\n",
       "      <td>40s</td>\n",
       "      <td>Pearl</td>\n",
       "      <td>7583</td>\n",
       "    </tr>\n",
       "    <tr>\n",
       "      <th>59757</th>\n",
       "      <td>50s</td>\n",
       "      <td>Pearl</td>\n",
       "      <td>4372</td>\n",
       "    </tr>\n",
       "    <tr>\n",
       "      <th>66375</th>\n",
       "      <td>60s</td>\n",
       "      <td>Pearl</td>\n",
       "      <td>2090</td>\n",
       "    </tr>\n",
       "    <tr>\n",
       "      <th>74629</th>\n",
       "      <td>70s</td>\n",
       "      <td>Pearl</td>\n",
       "      <td>959</td>\n",
       "    </tr>\n",
       "    <tr>\n",
       "      <th>85354</th>\n",
       "      <td>80s</td>\n",
       "      <td>Pearl</td>\n",
       "      <td>1129</td>\n",
       "    </tr>\n",
       "    <tr>\n",
       "      <th>99265</th>\n",
       "      <td>90s</td>\n",
       "      <td>Pearl</td>\n",
       "      <td>1011</td>\n",
       "    </tr>\n",
       "    <tr>\n",
       "      <th>12658</th>\n",
       "      <td>s2000</td>\n",
       "      <td>Pearl</td>\n",
       "      <td>1664</td>\n",
       "    </tr>\n",
       "    <tr>\n",
       "      <th>34186</th>\n",
       "      <td>s2010</td>\n",
       "      <td>Pearl</td>\n",
       "      <td>3298</td>\n",
       "    </tr>\n",
       "  </tbody>\n",
       "</table>\n",
       "</div>"
      ],
      "text/plain": [
       "      decades   name  number\n",
       "20680     10s  Pearl   34079\n",
       "42863     20s  Pearl   33164\n",
       "48439     30s  Pearl   13335\n",
       "53835     40s  Pearl    7583\n",
       "59757     50s  Pearl    4372\n",
       "66375     60s  Pearl    2090\n",
       "74629     70s  Pearl     959\n",
       "85354     80s  Pearl    1129\n",
       "99265     90s  Pearl    1011\n",
       "12658   s2000  Pearl    1664\n",
       "34186   s2010  Pearl    3298"
      ]
     },
     "execution_count": 224,
     "metadata": {},
     "output_type": "execute_result"
    }
   ],
   "source": [
    "serena1=pd.Series(booleans)\n",
    "#britney1.head()\n",
    "serena = pd.DataFrame(clean_muggles[serena1])\n",
    "serena.sort_values('decades')"
   ]
  },
  {
   "cell_type": "code",
   "execution_count": 225,
   "metadata": {},
   "outputs": [],
   "source": [
    "#%matplotlib inline"
   ]
  },
  {
   "cell_type": "code",
   "execution_count": 226,
   "metadata": {},
   "outputs": [
    {
     "data": {
      "image/png": "[encoded data removed]",
      "text/plain": [
       "<Figure size 640x440 with 1 Axes>"
      ]
     },
     "metadata": {},
     "output_type": "display_data"
    }
   ],
   "source": [
    "serena.plot.bar(x='decades',y='number')\n",
    "plt.title(\"Serenas Over Time\")\n",
    "plt.xlabel(\"Decades\")\n",
    "plt.ylabel(\"How many Serenas?\")\n",
    "plt.rcParams['figure.figsize']=(8,6)\n",
    "matplotlib.style.use('seaborn')"
   ]
  },
  {
   "cell_type": "code",
   "execution_count": null,
   "metadata": {},
   "outputs": [],
   "source": []
  }
 ],
 "metadata": {
  "kernelspec": {
   "display_name": "Python 3",
   "language": "python",
   "name": "python3"
  },
  "language_info": {
   "codemirror_mode": {
    "name": "ipython",
    "version": 3
   },
   "file_extension": ".py",
   "mimetype": "text/x-python",
   "name": "python",
   "nbconvert_exporter": "python",
   "pygments_lexer": "ipython3",
   "version": "3.6.9"
  }
 },
 "nbformat": 4,
 "nbformat_minor": 2
}
