{
 "cells": [
  {
   "cell_type": "code",
   "execution_count": 6,
   "metadata": {},
   "outputs": [],
   "source": [
    "import pandas as pd\n",
    "import matplotlib.pyplot as plt\n",
    "import matplotlib\n",
    "import scipy\n",
    "import numpy as np\n",
    "import csv"
   ]
  },
  {
   "cell_type": "code",
   "execution_count": 7,
   "metadata": {},
   "outputs": [
    {
     "data": {
      "text/html": [
       "<div>\n",
       "<style scoped>\n",
       "    .dataframe tbody tr th:only-of-type {\n",
       "        vertical-align: middle;\n",
       "    }\n",
       "\n",
       "    .dataframe tbody tr th {\n",
       "        vertical-align: top;\n",
       "    }\n",
       "\n",
       "    .dataframe thead th {\n",
       "        text-align: right;\n",
       "    }\n",
       "</style>\n",
       "<table border=\"1\" class=\"dataframe\">\n",
       "  <thead>\n",
       "    <tr style=\"text-align: right;\">\n",
       "      <th></th>\n",
       "      <th>firstName</th>\n",
       "      <th>lastName</th>\n",
       "      <th>decade</th>\n",
       "    </tr>\n",
       "  </thead>\n",
       "  <tbody>\n",
       "    <tr>\n",
       "      <th>0</th>\n",
       "      <td>Andre</td>\n",
       "      <td>Agassi</td>\n",
       "      <td>70s</td>\n",
       "    </tr>\n",
       "    <tr>\n",
       "      <th>1</th>\n",
       "      <td>Andy</td>\n",
       "      <td>Warhol</td>\n",
       "      <td>20s</td>\n",
       "    </tr>\n",
       "    <tr>\n",
       "      <th>2</th>\n",
       "      <td>Allen</td>\n",
       "      <td>Ginsberg</td>\n",
       "      <td>20s</td>\n",
       "    </tr>\n",
       "    <tr>\n",
       "      <th>3</th>\n",
       "      <td>Paul</td>\n",
       "      <td>Krugman</td>\n",
       "      <td>50s</td>\n",
       "    </tr>\n",
       "    <tr>\n",
       "      <th>4</th>\n",
       "      <td>Alec</td>\n",
       "      <td>Baldwin</td>\n",
       "      <td>50s</td>\n",
       "    </tr>\n",
       "  </tbody>\n",
       "</table>\n",
       "</div>"
      ],
      "text/plain": [
       "  firstName  lastName decade\n",
       "0     Andre    Agassi    70s\n",
       "1      Andy    Warhol    20s\n",
       "2     Allen  Ginsberg    20s\n",
       "3      Paul   Krugman    50s\n",
       "4      Alec   Baldwin    50s"
      ]
     },
     "execution_count": 7,
     "metadata": {},
     "output_type": "execute_result"
    }
   ],
   "source": [
    "file = \"wip_csv/clean_celebs.csv\"\n",
    "clean_celebs1 = pd.read_csv(file)\n",
    "#for some reason needed to drop unnamed column \n",
    "clean_celebs1.drop(columns =[\"Unnamed: 0\"], inplace = True) \n",
    "clean_celebs1.head()"
   ]
  },
  {
   "cell_type": "code",
   "execution_count": 8,
   "metadata": {},
   "outputs": [
    {
     "data": {
      "text/html": [
       "<div>\n",
       "<style scoped>\n",
       "    .dataframe tbody tr th:only-of-type {\n",
       "        vertical-align: middle;\n",
       "    }\n",
       "\n",
       "    .dataframe tbody tr th {\n",
       "        vertical-align: top;\n",
       "    }\n",
       "\n",
       "    .dataframe thead th {\n",
       "        text-align: right;\n",
       "    }\n",
       "</style>\n",
       "<table border=\"1\" class=\"dataframe\">\n",
       "  <thead>\n",
       "    <tr style=\"text-align: right;\">\n",
       "      <th></th>\n",
       "      <th>decades</th>\n",
       "      <th>name</th>\n",
       "      <th>number</th>\n",
       "    </tr>\n",
       "  </thead>\n",
       "  <tbody>\n",
       "    <tr>\n",
       "      <th>0</th>\n",
       "      <td>00s</td>\n",
       "      <td>Aadan</td>\n",
       "      <td>18</td>\n",
       "    </tr>\n",
       "    <tr>\n",
       "      <th>1</th>\n",
       "      <td>00s</td>\n",
       "      <td>Aadarsh</td>\n",
       "      <td>5</td>\n",
       "    </tr>\n",
       "    <tr>\n",
       "      <th>2</th>\n",
       "      <td>00s</td>\n",
       "      <td>Aaden</td>\n",
       "      <td>2285</td>\n",
       "    </tr>\n",
       "    <tr>\n",
       "      <th>3</th>\n",
       "      <td>00s</td>\n",
       "      <td>Aadhya</td>\n",
       "      <td>11</td>\n",
       "    </tr>\n",
       "    <tr>\n",
       "      <th>4</th>\n",
       "      <td>00s</td>\n",
       "      <td>Aadi</td>\n",
       "      <td>205</td>\n",
       "    </tr>\n",
       "  </tbody>\n",
       "</table>\n",
       "</div>"
      ],
      "text/plain": [
       "  decades     name  number\n",
       "0     00s    Aadan      18\n",
       "1     00s  Aadarsh       5\n",
       "2     00s    Aaden    2285\n",
       "3     00s   Aadhya      11\n",
       "4     00s     Aadi     205"
      ]
     },
     "execution_count": 8,
     "metadata": {},
     "output_type": "execute_result"
    }
   ],
   "source": [
    "#import Gizems datafram\n",
    "file2 = \"../SSN_data/part3.csv\"\n",
    "clean_muggles = pd.read_csv(file2)\n",
    "#for some reason needed to drop unnamed column \n",
    "clean_muggles.drop(columns =[\"Unnamed: 0\"], inplace = True) \n",
    "clean_muggles.head()"
   ]
  },
  {
   "cell_type": "code",
   "execution_count": 9,
   "metadata": {},
   "outputs": [
    {
     "data": {
      "text/plain": [
       "(103111, 3)"
      ]
     },
     "execution_count": 9,
     "metadata": {},
     "output_type": "execute_result"
    }
   ],
   "source": [
    "clean_muggles.shape"
   ]
  },
  {
   "cell_type": "code",
   "execution_count": 55,
   "metadata": {},
   "outputs": [],
   "source": [
    "sel_list = []\n",
    "name1 = \"Percy\"\n",
    "for i in clean_muggles.name:\n",
    "    if i == name1:\n",
    "        sel_list.append(True)\n",
    "    else:\n",
    "        sel_list.append(False)"
   ]
  },
  {
   "cell_type": "code",
   "execution_count": 56,
   "metadata": {},
   "outputs": [
    {
     "data": {
      "text/html": [
       "<div>\n",
       "<style scoped>\n",
       "    .dataframe tbody tr th:only-of-type {\n",
       "        vertical-align: middle;\n",
       "    }\n",
       "\n",
       "    .dataframe tbody tr th {\n",
       "        vertical-align: top;\n",
       "    }\n",
       "\n",
       "    .dataframe thead th {\n",
       "        text-align: right;\n",
       "    }\n",
       "</style>\n",
       "<table border=\"1\" class=\"dataframe\">\n",
       "  <thead>\n",
       "    <tr style=\"text-align: right;\">\n",
       "      <th></th>\n",
       "      <th>decades</th>\n",
       "      <th>name</th>\n",
       "      <th>number</th>\n",
       "    </tr>\n",
       "  </thead>\n",
       "  <tbody>\n",
       "    <tr>\n",
       "      <th>12672</th>\n",
       "      <td>00s</td>\n",
       "      <td>Percy</td>\n",
       "      <td>132</td>\n",
       "    </tr>\n",
       "    <tr>\n",
       "      <th>20696</th>\n",
       "      <td>10s</td>\n",
       "      <td>Percy</td>\n",
       "      <td>3769</td>\n",
       "    </tr>\n",
       "    <tr>\n",
       "      <th>34204</th>\n",
       "      <td>2010</td>\n",
       "      <td>Percy</td>\n",
       "      <td>92</td>\n",
       "    </tr>\n",
       "    <tr>\n",
       "      <th>42886</th>\n",
       "      <td>20s</td>\n",
       "      <td>Percy</td>\n",
       "      <td>5063</td>\n",
       "    </tr>\n",
       "    <tr>\n",
       "      <th>48455</th>\n",
       "      <td>30s</td>\n",
       "      <td>Percy</td>\n",
       "      <td>3425</td>\n",
       "    </tr>\n",
       "    <tr>\n",
       "      <th>53860</th>\n",
       "      <td>40s</td>\n",
       "      <td>Percy</td>\n",
       "      <td>3285</td>\n",
       "    </tr>\n",
       "    <tr>\n",
       "      <th>59778</th>\n",
       "      <td>50s</td>\n",
       "      <td>Percy</td>\n",
       "      <td>3194</td>\n",
       "    </tr>\n",
       "    <tr>\n",
       "      <th>66395</th>\n",
       "      <td>60s</td>\n",
       "      <td>Percy</td>\n",
       "      <td>1790</td>\n",
       "    </tr>\n",
       "    <tr>\n",
       "      <th>74643</th>\n",
       "      <td>70s</td>\n",
       "      <td>Percy</td>\n",
       "      <td>1160</td>\n",
       "    </tr>\n",
       "    <tr>\n",
       "      <th>85370</th>\n",
       "      <td>80s</td>\n",
       "      <td>Percy</td>\n",
       "      <td>630</td>\n",
       "    </tr>\n",
       "    <tr>\n",
       "      <th>99279</th>\n",
       "      <td>90s</td>\n",
       "      <td>Percy</td>\n",
       "      <td>294</td>\n",
       "    </tr>\n",
       "  </tbody>\n",
       "</table>\n",
       "</div>"
      ],
      "text/plain": [
       "      decades   name  number\n",
       "12672     00s  Percy     132\n",
       "20696     10s  Percy    3769\n",
       "34204    2010  Percy      92\n",
       "42886     20s  Percy    5063\n",
       "48455     30s  Percy    3425\n",
       "53860     40s  Percy    3285\n",
       "59778     50s  Percy    3194\n",
       "66395     60s  Percy    1790\n",
       "74643     70s  Percy    1160\n",
       "85370     80s  Percy     630\n",
       "99279     90s  Percy     294"
      ]
     },
     "execution_count": 56,
     "metadata": {},
     "output_type": "execute_result"
    }
   ],
   "source": [
    "serena1=pd.Series(sel_list)\n",
    "serena = pd.DataFrame(clean_muggles[serena1])\n",
    "serena.sort_values('decades')"
   ]
  },
  {
   "cell_type": "code",
   "execution_count": 57,
   "metadata": {},
   "outputs": [
    {
     "data": {
      "image/png": "[encoded data removed]",
      "text/plain": [
       "<Figure size 1296x720 with 1 Axes>"
      ]
     },
     "metadata": {},
     "output_type": "display_data"
    }
   ],
   "source": [
    "field = \"decades\"\n",
    "decade_order = [\"10s\", \"20s\", \"30s\", \"40s\", \"50s\", \"60s\", \"70s\",\"80s\",\"90s\",\"00s\",\"2010\"]\n",
    "name_plot = serena.set_index(\"decades\").loc[decade_order].plot(kind=\"line\", legend=False)\n",
    "plt.ylabel(\"Value\")\n",
    "plt.xlim(right = 10.2)\n",
    "plt.xlim(left = -0.2)\n",
    "plt.title(f'{name1}s Over Time')\n",
    "plt.xlabel(\"Decades\")\n",
    "plt.ylabel(f\"How many {name1}s in a decade?\")\n",
    "fig = matplotlib.pyplot.gcf()\n",
    "fig.set_size_inches(18, 10)\n",
    "matplotlib.style.use('seaborn')\n",
    "fig.savefig('Percy.png')"
   ]
  },
  {
   "cell_type": "code",
   "execution_count": 58,
   "metadata": {},
   "outputs": [
    {
     "data": {
      "image/png": "[encoded data removed]",
      "text/plain": [
       "<Figure size 1296x720 with 1 Axes>"
      ]
     },
     "metadata": {},
     "output_type": "display_data"
    }
   ],
   "source": [
    "field = \"decades\"\n",
    "decade_order = [\"10s\", \"20s\", \"30s\", \"40s\", \"50s\", \"60s\", \"70s\",\"80s\",\"90s\",\"00s\",\"2010\"]\n",
    "name_plot = serena.set_index(\"decades\").loc[decade_order].plot(kind=\"bar\", legend=False)\n",
    "plt.ylabel(\"Value\")\n",
    "plt.xlim(right = 10.2)\n",
    "plt.xlim(left = -0.2)\n",
    "plt.title(f'{name1}s Over Time')\n",
    "plt.xlabel(\"Decades\")\n",
    "plt.ylabel(f\"How many {name1}s in a decade?\")\n",
    "fig = matplotlib.pyplot.gcf()\n",
    "fig.set_size_inches(18, 10)\n",
    "matplotlib.style.use('seaborn')\n",
    "fig.savefig('Percy1.png')"
   ]
  },
  {
   "cell_type": "code",
   "execution_count": null,
   "metadata": {},
   "outputs": [],
   "source": []
  },
  {
   "cell_type": "code",
   "execution_count": null,
   "metadata": {},
   "outputs": [],
   "source": []
  }
 ],
 "metadata": {
  "kernelspec": {
   "display_name": "Python 3",
   "language": "python",
   "name": "python3"
  },
  "language_info": {
   "codemirror_mode": {
    "name": "ipython",
    "version": 3
   },
   "file_extension": ".py",
   "mimetype": "text/x-python",
   "name": "python",
   "nbconvert_exporter": "python",
   "pygments_lexer": "ipython3",
   "version": "3.7.3"
  }
 },
 "nbformat": 4,
 "nbformat_minor": 2
}
