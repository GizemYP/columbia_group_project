{
 "cells": [
  {
   "cell_type": "code",
   "execution_count": 5,
   "metadata": {},
   "outputs": [],
   "source": [
    "import requests as req\n",
    "import pandas as pd\n",
    "import csv\n",
    "\n",
    "lname = \"50%20Cent\"\n",
    "url = \"https://en.wikipedia.org/w/api.php?action=query&list=search&srsearch=\" + lname + \"&format=json\"\n",
    "articles = req.get(url).json()\n",
    "\n"
   ]
  },
  {
   "cell_type": "code",
   "execution_count": 9,
   "metadata": {},
   "outputs": [
    {
     "data": {
      "text/plain": [
       "{'ns': 0,\n",
       " 'title': '50 Cent',\n",
       " 'pageid': 192481,\n",
       " 'size': 137810,\n",
       " 'wordcount': 13494,\n",
       " 'snippet': 'Curtis James Jackson III (born July 6, 1975), known professionally as <span class=\"searchmatch\">50</span> <span class=\"searchmatch\">Cent</span>, is an American rapper, singer, songwriter, actor, television producer,',\n",
       " 'timestamp': '2019-09-12T12:59:10Z'}"
      ]
     },
     "execution_count": 9,
     "metadata": {},
     "output_type": "execute_result"
    }
   ],
   "source": [
    "#need to be able to penetrate json layers to extract needed data, which is \"title\" and \"extract\"\n",
    "#Technically title we posses in the DB above\n",
    "\n",
    "abc = articles['query']['search'][0]\n",
    "    \n",
    "abc"
   ]
  },
  {
   "cell_type": "code",
   "execution_count": 10,
   "metadata": {},
   "outputs": [],
   "source": [
    "w = csv.writer(open(\"test.csv\", \"w\"))\n",
    "for key, val in abc.items():\n",
    "    w.writerow([key, val])"
   ]
  }
 ],
 "metadata": {
  "kernelspec": {
   "display_name": "Python 3",
   "language": "python",
   "name": "python3"
  },
  "language_info": {
   "codemirror_mode": {
    "name": "ipython",
    "version": 3
   },
   "file_extension": ".py",
   "mimetype": "text/x-python",
   "name": "python",
   "nbconvert_exporter": "python",
   "pygments_lexer": "ipython3",
   "version": "3.7.3"
  }
 },
 "nbformat": 4,
 "nbformat_minor": 2
}
